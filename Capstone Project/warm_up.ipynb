{
 "cells": [
  {
   "cell_type": "markdown",
   "id": "468a917b",
   "metadata": {},
   "source": [
    "# Collecting Job Data Using APIs\n"
   ]
  },
  {
   "cell_type": "markdown",
   "id": "e700cce3",
   "metadata": {},
   "source": [
    "## Warm up excercise"
   ]
  },
  {
   "cell_type": "code",
   "execution_count": 1,
   "id": "eaf02674",
   "metadata": {},
   "outputs": [],
   "source": [
    "import pandas as pd\n",
    "import requests"
   ]
  },
  {
   "cell_type": "code",
   "execution_count": 2,
   "id": "5a2271ee",
   "metadata": {},
   "outputs": [],
   "source": [
    "api_url = \"http://api.open-notify.org/astros.json\" # this url gives use the astronaut data"
   ]
  },
  {
   "cell_type": "code",
   "execution_count": 5,
   "id": "d3c8a754",
   "metadata": {},
   "outputs": [],
   "source": [
    "r = requests.get(api_url, allow_redirects=True)"
   ]
  },
  {
   "cell_type": "code",
   "execution_count": 6,
   "id": "307286e9",
   "metadata": {},
   "outputs": [
    {
     "data": {
      "text/plain": [
       "200"
      ]
     },
     "execution_count": 6,
     "metadata": {},
     "output_type": "execute_result"
    }
   ],
   "source": [
    "r.status_code"
   ]
  },
  {
   "cell_type": "code",
   "execution_count": 7,
   "id": "72fd13e8",
   "metadata": {},
   "outputs": [
    {
     "name": "stdout",
     "output_type": "stream",
     "text": [
      "{'User-Agent': 'python-requests/2.32.3', 'Accept-Encoding': 'gzip, deflate, br, zstd', 'Accept': '*/*', 'Connection': 'keep-alive'}\n"
     ]
    }
   ],
   "source": [
    "# let's view the request headers\n",
    "print(r.request.headers)"
   ]
  },
  {
   "cell_type": "code",
   "execution_count": 8,
   "id": "e6f632f8",
   "metadata": {},
   "outputs": [],
   "source": [
    "response = requests.get(api_url)"
   ]
  },
  {
   "cell_type": "code",
   "execution_count": 9,
   "id": "d45a3f69",
   "metadata": {},
   "outputs": [],
   "source": [
    "if response.ok:             # if all is well() no errors, no network timeouts)\n",
    "    data = response.json()  # store the result in json format in a variable called data\n",
    "    "
   ]
  },
  {
   "cell_type": "code",
   "execution_count": 10,
   "id": "4887b83d",
   "metadata": {},
   "outputs": [
    {
     "name": "stdout",
     "output_type": "stream",
     "text": [
      "{'people': [{'craft': 'ISS', 'name': 'Oleg Kononenko'}, {'craft': 'ISS', 'name': 'Nikolai Chub'}, {'craft': 'ISS', 'name': 'Tracy Caldwell Dyson'}, {'craft': 'ISS', 'name': 'Matthew Dominick'}, {'craft': 'ISS', 'name': 'Michael Barratt'}, {'craft': 'ISS', 'name': 'Jeanette Epps'}, {'craft': 'ISS', 'name': 'Alexander Grebenkin'}, {'craft': 'ISS', 'name': 'Butch Wilmore'}, {'craft': 'ISS', 'name': 'Sunita Williams'}, {'craft': 'Tiangong', 'name': 'Li Guangsu'}, {'craft': 'Tiangong', 'name': 'Li Cong'}, {'craft': 'Tiangong', 'name': 'Ye Guangfu'}], 'number': 12, 'message': 'success'}\n"
     ]
    }
   ],
   "source": [
    "print(data)  # print the data to see what it looks like"
   ]
  },
  {
   "cell_type": "code",
   "execution_count": 11,
   "id": "854d418f",
   "metadata": {},
   "outputs": [
    {
     "name": "stdout",
     "output_type": "stream",
     "text": [
      "12\n"
     ]
    }
   ],
   "source": [
    "print(data.get('number'))"
   ]
  },
  {
   "cell_type": "code",
   "execution_count": 16,
   "id": "5c940744",
   "metadata": {},
   "outputs": [
    {
     "name": "stdout",
     "output_type": "stream",
     "text": [
      "number of astronauts:  12\n",
      "And their names are :\n",
      "Oleg Kononenko\n",
      "Nikolai Chub\n",
      "Tracy Caldwell Dyson\n",
      "Matthew Dominick\n",
      "Michael Barratt\n",
      "Jeanette Epps\n",
      "Alexander Grebenkin\n",
      "Butch Wilmore\n",
      "Sunita Williams\n",
      "Li Guangsu\n",
      "Li Cong\n",
      "Ye Guangfu\n"
     ]
    }
   ],
   "source": [
    "astronauts = data.get('people')\n",
    "print(\"number of astronauts: \", len(astronauts))  # print the astronauts data\n",
    "print(\"And their names are :\")\n",
    "for i in astronauts:\n",
    "    print(i.get('name'))  # print the name of each astronaut"
   ]
  },
  {
   "cell_type": "markdown",
   "id": "27c7e907",
   "metadata": {},
   "source": [
    "## lab part 2: collect Jobs Data using Jobs API"
   ]
  },
  {
   "cell_type": "markdown",
   "id": "4ee7749a",
   "metadata": {},
   "source": [
    "### Objective: Determine the number of jobs currently open for various technologies  and for various locations\n"
   ]
  },
  {
   "cell_type": "markdown",
   "id": "51837b9f",
   "metadata": {},
   "source": [
    "Collect the number of job postings for the following locations using the API:\n",
    "\n",
    "Los Angeles,\n",
    "New York,\n",
    "San Francisco,\n",
    "Washington DC,\n",
    "Seattle,\n",
    "Austin,\n",
    "Detroit"
   ]
  },
  {
   "cell_type": "code",
   "execution_count": 17,
   "id": "c483dca9",
   "metadata": {},
   "outputs": [],
   "source": [
    "import pandas as pd\n",
    "import requests\n",
    "import json"
   ]
  },
  {
   "cell_type": "markdown",
   "id": "e780b123",
   "metadata": {},
   "source": [
    "The keys in the json are:\n",
    "\n",
    "Job Title,\n",
    "Job Experience Required,\n",
    "Key Skills,\n",
    "Role Category,\n",
    "Location,\n",
    "Functional Area,\n",
    "Industry,\n",
    "Role"
   ]
  },
  {
   "cell_type": "code",
   "execution_count": 30,
   "id": "60dc60e8",
   "metadata": {},
   "outputs": [],
   "source": [
    "api_url2 =\"https://cf-courses-data.s3.us.cloud-object-storage.appdomain.cloud/IBM-DA0321EN-SkillsNetwork/labs/module%201/Accessing%20Data%20Using%20APIs/jobs.json\"\n"
   ]
  },
  {
   "cell_type": "code",
   "execution_count": 31,
   "id": "2c9b7db1",
   "metadata": {},
   "outputs": [],
   "source": [
    "response2 = requests.get(api_url2)"
   ]
  },
  {
   "cell_type": "code",
   "execution_count": 20,
   "id": "658f6162",
   "metadata": {},
   "outputs": [],
   "source": [
    "def get_number_of_jobs_T(technology):\n",
    "    #your code goes here\n",
    "    return technology,number_of_jobs"
   ]
  },
  {
   "cell_type": "code",
   "execution_count": 32,
   "id": "71704c4f",
   "metadata": {},
   "outputs": [
    {
     "name": "stdout",
     "output_type": "stream",
     "text": [
      "Data retrieved successfully\n"
     ]
    }
   ],
   "source": [
    "if response2.status_code == 200:             # if all is well() no errors, no network timeouts)\n",
    "    job_data = response2.json()  # store the result in json format in a variable called job_data\n",
    "    print(\"Data retrieved successfully\")\n",
    "else:\n",
    "    job_data = []\n",
    "    print(\"Failed to retrieve data. Status code:\", response2.status_code)\n",
    "    print(\"Response content:\", response2.content)"
   ]
  },
  {
   "cell_type": "code",
   "execution_count": 43,
   "id": "ce2b1138",
   "metadata": {},
   "outputs": [],
   "source": [
    "# define the function to filter jobs by location\n",
    "def get_number_of_jobs_L(location, data):\n",
    "    count = 0\n",
    "    for job in data:\n",
    "        if job.get('Location',\"\").lower() == location.lower():\n",
    "            count += 1\n",
    "    return count"
   ]
  },
  {
   "cell_type": "code",
   "execution_count": 46,
   "id": "78cc2a65",
   "metadata": {},
   "outputs": [
    {
     "name": "stdout",
     "output_type": "stream",
     "text": [
      "Number of jobs in Los Angeles: 640\n"
     ]
    }
   ],
   "source": [
    "num_jobs = get_number_of_jobs_L(\"Los Angeles\", job_data)\n",
    "print(f\"Number of jobs in Los Angeles: {num_jobs}\")\n"
   ]
  }
 ],
 "metadata": {
  "kernelspec": {
   "display_name": "base",
   "language": "python",
   "name": "python3"
  },
  "language_info": {
   "codemirror_mode": {
    "name": "ipython",
    "version": 3
   },
   "file_extension": ".py",
   "mimetype": "text/x-python",
   "name": "python",
   "nbconvert_exporter": "python",
   "pygments_lexer": "ipython3",
   "version": "3.12.7"
  }
 },
 "nbformat": 4,
 "nbformat_minor": 5
}
