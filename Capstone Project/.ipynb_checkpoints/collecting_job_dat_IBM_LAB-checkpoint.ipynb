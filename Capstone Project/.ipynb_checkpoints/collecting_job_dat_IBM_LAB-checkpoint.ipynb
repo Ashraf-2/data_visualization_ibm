{
 "cells": [
  {
   "cell_type": "markdown",
   "id": "5e7d4b57-0303-489b-b6d2-92d7363d44d6",
   "metadata": {},
   "source": [
    "# Collecting Job Data Using APIs"
   ]
  },
  {
   "cell_type": "markdown",
   "id": "b6bd1c25-2eee-4363-b87b-83398a16ab28",
   "metadata": {
    "jp-MarkdownHeadingCollapsed": true
   },
   "source": [
    "## Objectives\n",
    "After completing this lab, you will be able to:\n",
    "\n",
    "1. Collect job data using Jobs API\n",
    "2. Store the collected data into an excel spreadsheet."
   ]
  },
  {
   "cell_type": "code",
   "execution_count": 5,
   "id": "974ed0f5-aafe-47cd-bc1d-59e6ff88e78e",
   "metadata": {},
   "outputs": [
    {
     "name": "stdout",
     "output_type": "stream",
     "text": [
      "Requirement already satisfied: flask in c:\\users\\88017\\anaconda3\\lib\\site-packages (3.0.3)\n",
      "Requirement already satisfied: Werkzeug>=3.0.0 in c:\\users\\88017\\anaconda3\\lib\\site-packages (from flask) (3.0.3)\n",
      "Requirement already satisfied: Jinja2>=3.1.2 in c:\\users\\88017\\anaconda3\\lib\\site-packages (from flask) (3.1.4)\n",
      "Requirement already satisfied: itsdangerous>=2.1.2 in c:\\users\\88017\\anaconda3\\lib\\site-packages (from flask) (2.2.0)\n",
      "Requirement already satisfied: click>=8.1.3 in c:\\users\\88017\\anaconda3\\lib\\site-packages (from flask) (8.1.7)\n",
      "Requirement already satisfied: blinker>=1.6.2 in c:\\users\\88017\\anaconda3\\lib\\site-packages (from flask) (1.6.2)\n",
      "Requirement already satisfied: colorama in c:\\users\\88017\\anaconda3\\lib\\site-packages (from click>=8.1.3->flask) (0.4.6)\n",
      "Requirement already satisfied: MarkupSafe>=2.0 in c:\\users\\88017\\anaconda3\\lib\\site-packages (from Jinja2>=3.1.2->flask) (2.1.3)\n"
     ]
    }
   ],
   "source": [
    "!pip install flask"
   ]
  },
  {
   "cell_type": "code",
   "execution_count": 8,
   "id": "22bff291-73e3-45cc-88bc-0866f12498a0",
   "metadata": {},
   "outputs": [],
   "source": [
    "import requests # you need this module to make an API call\n",
    "import pandas as pd"
   ]
  },
  {
   "cell_type": "code",
   "execution_count": 10,
   "id": "d173f074-04db-4e8c-b093-7a4eb77cf2dc",
   "metadata": {},
   "outputs": [],
   "source": [
    "api_url = \"http://api.open-notify.org/astros.json\" # this url gives use the astronaut data"
   ]
  },
  {
   "cell_type": "code",
   "execution_count": 12,
   "id": "9cfefcd2-9efe-4532-9a9b-2a0fe8f0f722",
   "metadata": {},
   "outputs": [],
   "source": [
    "response = requests.get(api_url) # Call the API using the get method and store the\n",
    "                                # output of the API call in a variable called response."
   ]
  },
  {
   "cell_type": "code",
   "execution_count": 14,
   "id": "f81ff0d5-ade7-4643-97c4-1c249874aa1a",
   "metadata": {},
   "outputs": [],
   "source": [
    "if response.ok:             # if all is well() no errors, no network timeouts)\n",
    "    data = response.json()  # store the result in json format in a variable called data\n",
    "                            # the variable data is of type dictionary."
   ]
  },
  {
   "cell_type": "code",
   "execution_count": 16,
   "id": "b4260951-f879-4515-8551-aa66b7334e8c",
   "metadata": {},
   "outputs": [
    {
     "name": "stdout",
     "output_type": "stream",
     "text": [
      "{'people': [{'craft': 'ISS', 'name': 'Oleg Kononenko'}, {'craft': 'ISS', 'name': 'Nikolai Chub'}, {'craft': 'ISS', 'name': 'Tracy Caldwell Dyson'}, {'craft': 'ISS', 'name': 'Matthew Dominick'}, {'craft': 'ISS', 'name': 'Michael Barratt'}, {'craft': 'ISS', 'name': 'Jeanette Epps'}, {'craft': 'ISS', 'name': 'Alexander Grebenkin'}, {'craft': 'ISS', 'name': 'Butch Wilmore'}, {'craft': 'ISS', 'name': 'Sunita Williams'}, {'craft': 'Tiangong', 'name': 'Li Guangsu'}, {'craft': 'Tiangong', 'name': 'Li Cong'}, {'craft': 'Tiangong', 'name': 'Ye Guangfu'}], 'number': 12, 'message': 'success'}\n"
     ]
    }
   ],
   "source": [
    "print(data)"
   ]
  },
  {
   "cell_type": "code",
   "execution_count": 18,
   "id": "bb32cb78-45dd-441e-9810-33656cfb2407",
   "metadata": {},
   "outputs": [
    {
     "name": "stdout",
     "output_type": "stream",
     "text": [
      "12\n"
     ]
    }
   ],
   "source": [
    "print(data.get('number'))"
   ]
  },
  {
   "cell_type": "code",
   "execution_count": 20,
   "id": "91ed6ff1-0345-4f26-8fb3-45c2775acdc2",
   "metadata": {},
   "outputs": [
    {
     "name": "stdout",
     "output_type": "stream",
     "text": [
      "There are 12 astronauts on ISS\n",
      "And their names are :\n",
      "Oleg Kononenko\n",
      "Nikolai Chub\n",
      "Tracy Caldwell Dyson\n",
      "Matthew Dominick\n",
      "Michael Barratt\n",
      "Jeanette Epps\n",
      "Alexander Grebenkin\n",
      "Butch Wilmore\n",
      "Sunita Williams\n",
      "Li Guangsu\n",
      "Li Cong\n",
      "Ye Guangfu\n"
     ]
    }
   ],
   "source": [
    "astronauts = data.get('people')\n",
    "print(\"There are {} astronauts on ISS\".format(len(astronauts)))\n",
    "print(\"And their names are :\")\n",
    "for astronaut in astronauts:\n",
    "    print(astronaut.get('name'))"
   ]
  },
  {
   "cell_type": "markdown",
   "id": "6ff87ae8-1770-4d91-b2db-2c04ecf363e7",
   "metadata": {
    "jp-MarkdownHeadingCollapsed": true
   },
   "source": [
    "## Job Data Access using API"
   ]
  },
  {
   "cell_type": "code",
   "execution_count": 25,
   "id": "04c8ee60-20d5-457e-b824-53882a2d333e",
   "metadata": {},
   "outputs": [],
   "source": [
    "import pandas as pd\n",
    "import json\n"
   ]
  },
  {
   "cell_type": "code",
   "execution_count": 27,
   "id": "c9a1972b-0c57-4ad8-988d-6f15ad7a8d86",
   "metadata": {},
   "outputs": [],
   "source": [
    "api_url=\"https://cf-courses-data.s3.us.cloud-object-storage.appdomain.cloud/IBM-DA0321EN-SkillsNetwork/labs/module%201/Accessing%20Data%20Using%20APIs/jobs.json\"\n"
   ]
  },
  {
   "cell_type": "code",
   "execution_count": 29,
   "id": "e26fe9ae-b1c9-4257-9f9f-4737448aaa05",
   "metadata": {},
   "outputs": [],
   "source": [
    "df = pd.read_json(api_url)"
   ]
  },
  {
   "cell_type": "code",
   "execution_count": 33,
   "id": "146a0d53-c847-407c-8863-dc9ed7d98433",
   "metadata": {},
   "outputs": [
    {
     "data": {
      "text/html": [
       "<div>\n",
       "<style scoped>\n",
       "    .dataframe tbody tr th:only-of-type {\n",
       "        vertical-align: middle;\n",
       "    }\n",
       "\n",
       "    .dataframe tbody tr th {\n",
       "        vertical-align: top;\n",
       "    }\n",
       "\n",
       "    .dataframe thead th {\n",
       "        text-align: right;\n",
       "    }\n",
       "</style>\n",
       "<table border=\"1\" class=\"dataframe\">\n",
       "  <thead>\n",
       "    <tr style=\"text-align: right;\">\n",
       "      <th></th>\n",
       "      <th>Id</th>\n",
       "      <th>Job Title</th>\n",
       "      <th>Job Experience Required</th>\n",
       "      <th>Key Skills</th>\n",
       "      <th>Role Category</th>\n",
       "      <th>Location</th>\n",
       "      <th>Functional Area</th>\n",
       "      <th>Industry</th>\n",
       "      <th>Role</th>\n",
       "    </tr>\n",
       "  </thead>\n",
       "  <tbody>\n",
       "    <tr>\n",
       "      <th>0</th>\n",
       "      <td>0</td>\n",
       "      <td>Digital Media Planner</td>\n",
       "      <td>5 - 10 yrs</td>\n",
       "      <td>Media Planning| Digital Media</td>\n",
       "      <td>Advertising</td>\n",
       "      <td>Los Angeles</td>\n",
       "      <td>Marketing , Advertising , MR , PR , Media Plan...</td>\n",
       "      <td>Advertising, PR, MR, Event Management</td>\n",
       "      <td>Media Planning Executive/Manager</td>\n",
       "    </tr>\n",
       "    <tr>\n",
       "      <th>1</th>\n",
       "      <td>1</td>\n",
       "      <td>Online Bidding Executive</td>\n",
       "      <td>2 - 5 yrs</td>\n",
       "      <td>pre sales| closing| software knowledge| client...</td>\n",
       "      <td>Retail Sales</td>\n",
       "      <td>New York</td>\n",
       "      <td>Sales , Retail , Business Development</td>\n",
       "      <td>IT-Software, Software Services</td>\n",
       "      <td>Sales Executive/Officer</td>\n",
       "    </tr>\n",
       "    <tr>\n",
       "      <th>2</th>\n",
       "      <td>2</td>\n",
       "      <td>Trainee Research/ Research Executive- Hi- Tech...</td>\n",
       "      <td>0 - 1 yrs</td>\n",
       "      <td>Computer science| Fabrication| Quality check| ...</td>\n",
       "      <td>R&amp;D</td>\n",
       "      <td>San Francisco</td>\n",
       "      <td>Engineering Design , R&amp;D</td>\n",
       "      <td>Recruitment, Staffing</td>\n",
       "      <td>R&amp;D Executive</td>\n",
       "    </tr>\n",
       "    <tr>\n",
       "      <th>3</th>\n",
       "      <td>3</td>\n",
       "      <td>Technical Support</td>\n",
       "      <td>0 - 5 yrs</td>\n",
       "      <td>Technical Support</td>\n",
       "      <td>Admin/Maintenance/Security/Datawarehousing</td>\n",
       "      <td>Washington DC</td>\n",
       "      <td>IT Software - Application Programming , Mainte...</td>\n",
       "      <td>IT-Software, Software Services</td>\n",
       "      <td>Technical Support Engineer</td>\n",
       "    </tr>\n",
       "    <tr>\n",
       "      <th>4</th>\n",
       "      <td>4</td>\n",
       "      <td>Software Test Engineer -hyderabad</td>\n",
       "      <td>2 - 5 yrs</td>\n",
       "      <td>manual testing| test engineering| test cases| ...</td>\n",
       "      <td>Programming &amp; Design</td>\n",
       "      <td>Boston</td>\n",
       "      <td>IT Software - QA &amp; Testing</td>\n",
       "      <td>IT-Software, Software Services</td>\n",
       "      <td>Testing Engineer</td>\n",
       "    </tr>\n",
       "    <tr>\n",
       "      <th>...</th>\n",
       "      <td>...</td>\n",
       "      <td>...</td>\n",
       "      <td>...</td>\n",
       "      <td>...</td>\n",
       "      <td>...</td>\n",
       "      <td>...</td>\n",
       "      <td>...</td>\n",
       "      <td>...</td>\n",
       "      <td>...</td>\n",
       "    </tr>\n",
       "    <tr>\n",
       "      <th>27000</th>\n",
       "      <td>29995</td>\n",
       "      <td>MTS-Software-Engineer</td>\n",
       "      <td>9 - 12 yrs</td>\n",
       "      <td>Graphics| C++| USB| Project management| SOC| F...</td>\n",
       "      <td>Programming &amp; Design</td>\n",
       "      <td>Detroit</td>\n",
       "      <td>IT Software - Embedded , EDA , VLSI , ASIC , C...</td>\n",
       "      <td>Semiconductors, Electronics</td>\n",
       "      <td>Software Developer</td>\n",
       "    </tr>\n",
       "    <tr>\n",
       "      <th>27001</th>\n",
       "      <td>29996</td>\n",
       "      <td>Client Relationship Manager</td>\n",
       "      <td>1 - 5 yrs</td>\n",
       "      <td>Service delivery| LMS| CRE| Integration servic...</td>\n",
       "      <td>Operations</td>\n",
       "      <td>Detroit</td>\n",
       "      <td>ITES , BPO , KPO , LPO , Customer Service , Op...</td>\n",
       "      <td>Education, Teaching, Training</td>\n",
       "      <td>Operations Manager</td>\n",
       "    </tr>\n",
       "    <tr>\n",
       "      <th>27002</th>\n",
       "      <td>29997</td>\n",
       "      <td>Assoc. Prof.- CS</td>\n",
       "      <td>4 - 6 yrs</td>\n",
       "      <td>Counselor| Mentor| Trainer| Advisor| Teaching</td>\n",
       "      <td>University Level</td>\n",
       "      <td>Detroit</td>\n",
       "      <td>Teaching , Education , Training , Counselling</td>\n",
       "      <td>Education, Teaching, Training</td>\n",
       "      <td>Lecturer/Professor</td>\n",
       "    </tr>\n",
       "    <tr>\n",
       "      <th>27003</th>\n",
       "      <td>29998</td>\n",
       "      <td>Application/Cyber Security Specialist-New Jersey</td>\n",
       "      <td>5 - 10 yrs</td>\n",
       "      <td>Security Analysis| Software Development Life C...</td>\n",
       "      <td>Programming &amp; Design</td>\n",
       "      <td>Detroit</td>\n",
       "      <td>IT Software - Application Programming , Mainte...</td>\n",
       "      <td>IT-Software, Software Services</td>\n",
       "      <td>Software Developer</td>\n",
       "    </tr>\n",
       "    <tr>\n",
       "      <th>27004</th>\n",
       "      <td>29999</td>\n",
       "      <td>Press Release Writer - SEO</td>\n",
       "      <td>2 - 7 yrs</td>\n",
       "      <td>Press release| Public relations| Publishing| W...</td>\n",
       "      <td>Online/Digital Marketing</td>\n",
       "      <td>Detroit</td>\n",
       "      <td>Marketing , Advertising , MR , PR , Media Plan...</td>\n",
       "      <td>IT-Software, Software Services</td>\n",
       "      <td>Search Engine Optimisation /SEO Specialist</td>\n",
       "    </tr>\n",
       "  </tbody>\n",
       "</table>\n",
       "<p>27005 rows × 9 columns</p>\n",
       "</div>"
      ],
      "text/plain": [
       "          Id                                          Job Title  \\\n",
       "0          0                              Digital Media Planner   \n",
       "1          1                           Online Bidding Executive   \n",
       "2          2  Trainee Research/ Research Executive- Hi- Tech...   \n",
       "3          3                                  Technical Support   \n",
       "4          4                  Software Test Engineer -hyderabad   \n",
       "...      ...                                                ...   \n",
       "27000  29995                              MTS-Software-Engineer   \n",
       "27001  29996                        Client Relationship Manager   \n",
       "27002  29997                                   Assoc. Prof.- CS   \n",
       "27003  29998   Application/Cyber Security Specialist-New Jersey   \n",
       "27004  29999                         Press Release Writer - SEO   \n",
       "\n",
       "      Job Experience Required  \\\n",
       "0                  5 - 10 yrs   \n",
       "1                   2 - 5 yrs   \n",
       "2                   0 - 1 yrs   \n",
       "3                   0 - 5 yrs   \n",
       "4                   2 - 5 yrs   \n",
       "...                       ...   \n",
       "27000              9 - 12 yrs   \n",
       "27001               1 - 5 yrs   \n",
       "27002               4 - 6 yrs   \n",
       "27003              5 - 10 yrs   \n",
       "27004               2 - 7 yrs   \n",
       "\n",
       "                                              Key Skills  \\\n",
       "0                          Media Planning| Digital Media   \n",
       "1      pre sales| closing| software knowledge| client...   \n",
       "2      Computer science| Fabrication| Quality check| ...   \n",
       "3                                      Technical Support   \n",
       "4      manual testing| test engineering| test cases| ...   \n",
       "...                                                  ...   \n",
       "27000  Graphics| C++| USB| Project management| SOC| F...   \n",
       "27001  Service delivery| LMS| CRE| Integration servic...   \n",
       "27002      Counselor| Mentor| Trainer| Advisor| Teaching   \n",
       "27003  Security Analysis| Software Development Life C...   \n",
       "27004  Press release| Public relations| Publishing| W...   \n",
       "\n",
       "                                    Role Category       Location  \\\n",
       "0                                     Advertising    Los Angeles   \n",
       "1                                    Retail Sales       New York   \n",
       "2                                             R&D  San Francisco   \n",
       "3      Admin/Maintenance/Security/Datawarehousing  Washington DC   \n",
       "4                            Programming & Design         Boston   \n",
       "...                                           ...            ...   \n",
       "27000                        Programming & Design        Detroit   \n",
       "27001                                  Operations        Detroit   \n",
       "27002                            University Level        Detroit   \n",
       "27003                        Programming & Design        Detroit   \n",
       "27004                    Online/Digital Marketing        Detroit   \n",
       "\n",
       "                                         Functional Area  \\\n",
       "0      Marketing , Advertising , MR , PR , Media Plan...   \n",
       "1                  Sales , Retail , Business Development   \n",
       "2                               Engineering Design , R&D   \n",
       "3      IT Software - Application Programming , Mainte...   \n",
       "4                             IT Software - QA & Testing   \n",
       "...                                                  ...   \n",
       "27000  IT Software - Embedded , EDA , VLSI , ASIC , C...   \n",
       "27001  ITES , BPO , KPO , LPO , Customer Service , Op...   \n",
       "27002      Teaching , Education , Training , Counselling   \n",
       "27003  IT Software - Application Programming , Mainte...   \n",
       "27004  Marketing , Advertising , MR , PR , Media Plan...   \n",
       "\n",
       "                                    Industry  \\\n",
       "0      Advertising, PR, MR, Event Management   \n",
       "1             IT-Software, Software Services   \n",
       "2                      Recruitment, Staffing   \n",
       "3             IT-Software, Software Services   \n",
       "4             IT-Software, Software Services   \n",
       "...                                      ...   \n",
       "27000            Semiconductors, Electronics   \n",
       "27001          Education, Teaching, Training   \n",
       "27002          Education, Teaching, Training   \n",
       "27003         IT-Software, Software Services   \n",
       "27004         IT-Software, Software Services   \n",
       "\n",
       "                                             Role  \n",
       "0                Media Planning Executive/Manager  \n",
       "1                         Sales Executive/Officer  \n",
       "2                                   R&D Executive  \n",
       "3                      Technical Support Engineer  \n",
       "4                                Testing Engineer  \n",
       "...                                           ...  \n",
       "27000                          Software Developer  \n",
       "27001                          Operations Manager  \n",
       "27002                          Lecturer/Professor  \n",
       "27003                          Software Developer  \n",
       "27004  Search Engine Optimisation /SEO Specialist  \n",
       "\n",
       "[27005 rows x 9 columns]"
      ]
     },
     "execution_count": 33,
     "metadata": {},
     "output_type": "execute_result"
    }
   ],
   "source": [
    "df"
   ]
  },
  {
   "cell_type": "code",
   "execution_count": 37,
   "id": "99e7020d-da0c-4b53-bcce-327c9f325ecf",
   "metadata": {},
   "outputs": [],
   "source": [
    "#df.to_csv('output.csv', index=False)\n"
   ]
  },
  {
   "cell_type": "code",
   "execution_count": 45,
   "id": "fee4bb6b-e30a-4c3e-a9c2-127138e459c9",
   "metadata": {},
   "outputs": [
    {
     "data": {
      "text/html": [
       "<div>\n",
       "<style scoped>\n",
       "    .dataframe tbody tr th:only-of-type {\n",
       "        vertical-align: middle;\n",
       "    }\n",
       "\n",
       "    .dataframe tbody tr th {\n",
       "        vertical-align: top;\n",
       "    }\n",
       "\n",
       "    .dataframe thead th {\n",
       "        text-align: right;\n",
       "    }\n",
       "</style>\n",
       "<table border=\"1\" class=\"dataframe\">\n",
       "  <thead>\n",
       "    <tr style=\"text-align: right;\">\n",
       "      <th></th>\n",
       "      <th>Id</th>\n",
       "      <th>Job Title</th>\n",
       "      <th>Job Experience Required</th>\n",
       "      <th>Key Skills</th>\n",
       "      <th>Role Category</th>\n",
       "      <th>Location</th>\n",
       "      <th>Functional Area</th>\n",
       "      <th>Industry</th>\n",
       "      <th>Role</th>\n",
       "    </tr>\n",
       "  </thead>\n",
       "  <tbody>\n",
       "    <tr>\n",
       "      <th>0</th>\n",
       "      <td>0</td>\n",
       "      <td>Digital Media Planner</td>\n",
       "      <td>5 - 10 yrs</td>\n",
       "      <td>Media Planning| Digital Media</td>\n",
       "      <td>Advertising</td>\n",
       "      <td>Los Angeles</td>\n",
       "      <td>Marketing , Advertising , MR , PR , Media Plan...</td>\n",
       "      <td>Advertising, PR, MR, Event Management</td>\n",
       "      <td>Media Planning Executive/Manager</td>\n",
       "    </tr>\n",
       "    <tr>\n",
       "      <th>1</th>\n",
       "      <td>1</td>\n",
       "      <td>Online Bidding Executive</td>\n",
       "      <td>2 - 5 yrs</td>\n",
       "      <td>pre sales| closing| software knowledge| client...</td>\n",
       "      <td>Retail Sales</td>\n",
       "      <td>New York</td>\n",
       "      <td>Sales , Retail , Business Development</td>\n",
       "      <td>IT-Software, Software Services</td>\n",
       "      <td>Sales Executive/Officer</td>\n",
       "    </tr>\n",
       "  </tbody>\n",
       "</table>\n",
       "</div>"
      ],
      "text/plain": [
       "   Id                 Job Title Job Experience Required  \\\n",
       "0   0     Digital Media Planner              5 - 10 yrs   \n",
       "1   1  Online Bidding Executive               2 - 5 yrs   \n",
       "\n",
       "                                          Key Skills Role Category  \\\n",
       "0                      Media Planning| Digital Media   Advertising   \n",
       "1  pre sales| closing| software knowledge| client...  Retail Sales   \n",
       "\n",
       "      Location                                    Functional Area  \\\n",
       "0  Los Angeles  Marketing , Advertising , MR , PR , Media Plan...   \n",
       "1     New York              Sales , Retail , Business Development   \n",
       "\n",
       "                                Industry                              Role  \n",
       "0  Advertising, PR, MR, Event Management  Media Planning Executive/Manager  \n",
       "1         IT-Software, Software Services           Sales Executive/Officer  "
      ]
     },
     "execution_count": 45,
     "metadata": {},
     "output_type": "execute_result"
    }
   ],
   "source": [
    "df.head(2)"
   ]
  },
  {
   "cell_type": "code",
   "execution_count": null,
   "id": "d151441f-0dd7-4430-9940-668dfc05f5c2",
   "metadata": {},
   "outputs": [],
   "source": [
    "df['Job Title']"
   ]
  },
  {
   "cell_type": "code",
   "execution_count": null,
   "id": "960f8fff-e060-4b97-8a34-2d39a65b89ea",
   "metadata": {},
   "outputs": [],
   "source": []
  },
  {
   "cell_type": "code",
   "execution_count": null,
   "id": "56d32584-9705-4e5f-8f36-fa16b3305fa6",
   "metadata": {},
   "outputs": [],
   "source": []
  },
  {
   "cell_type": "code",
   "execution_count": null,
   "id": "924f675d-0677-41b4-82a4-ed0eab58bebe",
   "metadata": {},
   "outputs": [],
   "source": []
  },
  {
   "cell_type": "code",
   "execution_count": null,
   "id": "057b1bb9-8625-4118-ab86-8b8d63adc63d",
   "metadata": {},
   "outputs": [],
   "source": []
  },
  {
   "cell_type": "code",
   "execution_count": null,
   "id": "5f409853-e8a0-45dc-8179-f890bdc0a004",
   "metadata": {},
   "outputs": [],
   "source": []
  },
  {
   "cell_type": "code",
   "execution_count": null,
   "id": "0db0032d-3027-48f9-9122-ff91fb7d924c",
   "metadata": {},
   "outputs": [],
   "source": []
  },
  {
   "cell_type": "code",
   "execution_count": null,
   "id": "7ec855cb-ce7d-4fd4-8968-a97be5116fac",
   "metadata": {},
   "outputs": [],
   "source": []
  },
  {
   "cell_type": "code",
   "execution_count": null,
   "id": "ddddbffa-dda4-4a08-95d9-f08d16b8458e",
   "metadata": {},
   "outputs": [],
   "source": []
  },
  {
   "cell_type": "markdown",
   "id": "53415d42-abd3-47b3-bf65-09767032a0e9",
   "metadata": {},
   "source": [
    "# Second way to read data."
   ]
  },
  {
   "cell_type": "code",
   "execution_count": null,
   "id": "e1767fe7-6512-464f-a2c9-6a7ef301bbc4",
   "metadata": {},
   "outputs": [],
   "source": [
    "import requests\n",
    "import json\n",
    "\n",
    "# Step 1: Load JSON data from the API\n",
    "url = \"https://cf-courses-data.s3.us.cloud-object-storage.appdomain.cloud/IBM-DA0321EN-SkillsNetwork/labs/module%201/Accessing%20Data%20Using%20APIs/jobs.json\"\n",
    "response = requests.get(url)\n",
    "data = response.json()\n",
    "\n",
    "# Optional: View a sample of the data\n",
    "# print(json.dumps(data[:2], indent=2))  # Uncomment to see structure\n"
   ]
  },
  {
   "cell_type": "markdown",
   "id": "018771cc-3bd1-4025-8e84-64637e67415f",
   "metadata": {},
   "source": [
    "## Final Simple way"
   ]
  },
  {
   "cell_type": "code",
   "execution_count": 4,
   "id": "783a6e5f-5da7-4c37-9fde-edf7201b84b1",
   "metadata": {},
   "outputs": [],
   "source": [
    "import requests\n",
    "import json\n",
    "\n",
    "# Step 1: Load JSON data from the API\n",
    "url = \"https://cf-courses-data.s3.us.cloud-object-storage.appdomain.cloud/IBM-DA0321EN-SkillsNetwork/labs/module%201/Accessing%20Data%20Using%20APIs/jobs.json\"\n",
    "response = requests.get(url)\n",
    "data = response.json()\n",
    "\n",
    "# Optional: View a sample of the data\n",
    "# print(json.dumps(data[:2], indent=2))  # Uncomment to see structure\n"
   ]
  },
  {
   "cell_type": "code",
   "execution_count": 6,
   "id": "28f2ac33-03a8-4d93-a101-6715adb520aa",
   "metadata": {},
   "outputs": [],
   "source": [
    "def count_jobs_by_technology(technology):\n",
    "    count = 0\n",
    "    tech = technology.lower()\n",
    "    for job in data:\n",
    "        key_skills = job.get(\"Key Skills\", \"\")\n",
    "        skill_list = [s.strip().lower() for s in key_skills.split('|')]\n",
    "        if tech in skill_list:\n",
    "            count += 1\n",
    "    return count"
   ]
  },
  {
   "cell_type": "code",
   "execution_count": 8,
   "id": "c28b3f1c-bcb6-43ea-9f68-5dae1a4ae32d",
   "metadata": {},
   "outputs": [
    {
     "name": "stdout",
     "output_type": "stream",
     "text": [
      "Python jobs: 1165\n",
      "SQL jobs: 1541\n",
      "Java jobs: 1209\n"
     ]
    }
   ],
   "source": [
    "print(\"Python jobs:\", count_jobs_by_technology(\"Python\"))\n",
    "print(\"SQL jobs:\", count_jobs_by_technology(\"SQL\"))\n",
    "print(\"Java jobs:\", count_jobs_by_technology(\"Java\"))\n"
   ]
  },
  {
   "cell_type": "code",
   "execution_count": null,
   "id": "4d5d29c4-d6a9-4204-ac26-0cf61baa641a",
   "metadata": {},
   "outputs": [],
   "source": []
  },
  {
   "cell_type": "code",
   "execution_count": null,
   "id": "89c61c20-eea5-4804-ab1e-493ecea41dcd",
   "metadata": {},
   "outputs": [],
   "source": []
  },
  {
   "cell_type": "code",
   "execution_count": null,
   "id": "3d5b98c2-2cb2-4f3d-a9df-e51f9299c989",
   "metadata": {},
   "outputs": [],
   "source": []
  }
 ],
 "metadata": {
  "kernelspec": {
   "display_name": "Python 3 (ipykernel)",
   "language": "python",
   "name": "python3"
  },
  "language_info": {
   "codemirror_mode": {
    "name": "ipython",
    "version": 3
   },
   "file_extension": ".py",
   "mimetype": "text/x-python",
   "name": "python",
   "nbconvert_exporter": "python",
   "pygments_lexer": "ipython3",
   "version": "3.12.7"
  }
 },
 "nbformat": 4,
 "nbformat_minor": 5
}
